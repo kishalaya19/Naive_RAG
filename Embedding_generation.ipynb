{
 "cells": [
  {
   "cell_type": "code",
   "execution_count": 1,
   "id": "d6d91b4b",
   "metadata": {},
   "outputs": [],
   "source": [
    "import pandas as pd\n",
    "import os\n",
    "from openai import OpenAI\n",
    "import tiktoken\n",
    "import numpy as np\n",
    "from tqdm import tqdm"
   ]
  },
  {
   "cell_type": "code",
   "execution_count": 72,
   "id": "b6a7d25c",
   "metadata": {},
   "outputs": [],
   "source": [
    "df = pd.read_csv(\"ucdavis_health_details.csv\")"
   ]
  },
  {
   "cell_type": "code",
   "execution_count": 73,
   "id": "bbe60753",
   "metadata": {},
   "outputs": [
    {
     "data": {
      "text/plain": [
       "(3085, 2)"
      ]
     },
     "execution_count": 73,
     "metadata": {},
     "output_type": "execute_result"
    }
   ],
   "source": [
    "df.shape"
   ]
  },
  {
   "cell_type": "code",
   "execution_count": 74,
   "id": "49e3a5cc",
   "metadata": {},
   "outputs": [
    {
     "data": {
      "text/html": [
       "<div>\n",
       "<style scoped>\n",
       "    .dataframe tbody tr th:only-of-type {\n",
       "        vertical-align: middle;\n",
       "    }\n",
       "\n",
       "    .dataframe tbody tr th {\n",
       "        vertical-align: top;\n",
       "    }\n",
       "\n",
       "    .dataframe thead th {\n",
       "        text-align: right;\n",
       "    }\n",
       "</style>\n",
       "<table border=\"1\" class=\"dataframe\">\n",
       "  <thead>\n",
       "    <tr style=\"text-align: right;\">\n",
       "      <th></th>\n",
       "      <th>url</th>\n",
       "      <th>text</th>\n",
       "    </tr>\n",
       "  </thead>\n",
       "  <tbody>\n",
       "    <tr>\n",
       "      <th>0</th>\n",
       "      <td>https://health.ucdavis.edu/</td>\n",
       "      <td>Personalized, compassionate care and the exper...</td>\n",
       "    </tr>\n",
       "    <tr>\n",
       "      <th>1</th>\n",
       "      <td>https://health.ucdavis.edu//welcome/</td>\n",
       "      <td>Personalized, compassionate care and the exper...</td>\n",
       "    </tr>\n",
       "    <tr>\n",
       "      <th>2</th>\n",
       "      <td>https://health.ucdavis.edu//patients-visitors/</td>\n",
       "      <td>Our highly rated doctors partner with you and ...</td>\n",
       "    </tr>\n",
       "    <tr>\n",
       "      <th>3</th>\n",
       "      <td>https://health.ucdavis.edu//patients-visitors/...</td>\n",
       "      <td>Our highly rated doctors partner with you and ...</td>\n",
       "    </tr>\n",
       "    <tr>\n",
       "      <th>4</th>\n",
       "      <td>https://health.ucdavis.edu//healthcare-profess...</td>\n",
       "      <td>Discover news, research, and innovations from ...</td>\n",
       "    </tr>\n",
       "  </tbody>\n",
       "</table>\n",
       "</div>"
      ],
      "text/plain": [
       "                                                 url  \\\n",
       "0                        https://health.ucdavis.edu/   \n",
       "1               https://health.ucdavis.edu//welcome/   \n",
       "2     https://health.ucdavis.edu//patients-visitors/   \n",
       "3  https://health.ucdavis.edu//patients-visitors/...   \n",
       "4  https://health.ucdavis.edu//healthcare-profess...   \n",
       "\n",
       "                                                text  \n",
       "0  Personalized, compassionate care and the exper...  \n",
       "1  Personalized, compassionate care and the exper...  \n",
       "2  Our highly rated doctors partner with you and ...  \n",
       "3  Our highly rated doctors partner with you and ...  \n",
       "4  Discover news, research, and innovations from ...  "
      ]
     },
     "execution_count": 74,
     "metadata": {},
     "output_type": "execute_result"
    }
   ],
   "source": [
    "df.head()"
   ]
  },
  {
   "cell_type": "code",
   "execution_count": 82,
   "id": "d1e47e78",
   "metadata": {},
   "outputs": [],
   "source": [
    "## data cleaning\n",
    "#df.drop(columns='url',inplace=True)\n",
    "df.drop_duplicates(subset=['text'],inplace=True)\n",
    "df.dropna(inplace=True)"
   ]
  },
  {
   "cell_type": "code",
   "execution_count": 83,
   "id": "b27f0511",
   "metadata": {},
   "outputs": [],
   "source": [
    "# Remove any non-string entries from the 'text' column\n",
    "df = df[df['text'].apply(lambda x: isinstance(x, str) and x.strip() != '')]"
   ]
  },
  {
   "cell_type": "code",
   "execution_count": 87,
   "id": "a0adc28d",
   "metadata": {},
   "outputs": [
    {
     "data": {
      "text/plain": [
       "(2300, 2)"
      ]
     },
     "execution_count": 87,
     "metadata": {},
     "output_type": "execute_result"
    }
   ],
   "source": [
    "df.shape"
   ]
  },
  {
   "cell_type": "code",
   "execution_count": 88,
   "id": "832feb9a",
   "metadata": {},
   "outputs": [],
   "source": [
    "# Function to truncate text to the maximum token limit\n",
    "def truncate_text(text, max_tokens=6000):\n",
    "    # Estimate tokens assuming 1 token ~ 4 characters\n",
    "    max_length = max_tokens * 4\n",
    "    return text[:max_length]\n",
    "\n",
    "# Truncate texts that exceed the token limit\n",
    "df['text'] = df['text'].apply(lambda x: truncate_text(x))"
   ]
  },
  {
   "cell_type": "code",
   "execution_count": 89,
   "id": "d99fbf4b",
   "metadata": {},
   "outputs": [],
   "source": [
    "# Set your API key\n",
    "openai.api_key = os.getenv(\"api_key\")\n",
    "client = OpenAI()"
   ]
  },
  {
   "cell_type": "code",
   "execution_count": 90,
   "id": "4a3175be",
   "metadata": {},
   "outputs": [],
   "source": [
    "# Initialize the tokenizer for the model\n",
    "tokenizer = tiktoken.get_encoding('p50k_base')  # Use the appropriate encoding for your model\n",
    "\n",
    "def get_embedding(text, model='text-embedding-3-small', max_tokens=7000):\n",
    "    # Tokenize the text and truncate if necessary\n",
    "    tokens = tokenizer.encode(text)\n",
    "    if len(tokens) > max_tokens:\n",
    "        tokens = tokens[:max_tokens]\n",
    "        text = tokenizer.decode(tokens)\n",
    "    \n",
    "    return client.embeddings.create(input=[text],model=model).data[0].embedding"
   ]
  },
  {
   "cell_type": "code",
   "execution_count": 91,
   "id": "c408ccfa",
   "metadata": {
    "scrolled": true
   },
   "outputs": [
    {
     "name": "stderr",
     "output_type": "stream",
     "text": [
      "100%|███████████████████████████████████████| 2300/2300 [08:20<00:00,  4.59it/s]\n"
     ]
    }
   ],
   "source": [
    "tqdm.pandas()\n",
    "df['embedding'] = df['text'].progress_apply(lambda x: get_embedding(x))"
   ]
  },
  {
   "cell_type": "code",
   "execution_count": 93,
   "id": "93c7e58d",
   "metadata": {},
   "outputs": [],
   "source": [
    "df.dropna(inplace=True)"
   ]
  },
  {
   "cell_type": "code",
   "execution_count": 94,
   "id": "0185808d",
   "metadata": {},
   "outputs": [],
   "source": [
    "df.to_csv('ucdavis_health_embeddings.csv',index=False)"
   ]
  }
 ],
 "metadata": {
  "kernelspec": {
   "display_name": "Python 3 (ipykernel)",
   "language": "python",
   "name": "python3"
  },
  "language_info": {
   "codemirror_mode": {
    "name": "ipython",
    "version": 3
   },
   "file_extension": ".py",
   "mimetype": "text/x-python",
   "name": "python",
   "nbconvert_exporter": "python",
   "pygments_lexer": "ipython3",
   "version": "3.11.5"
  }
 },
 "nbformat": 4,
 "nbformat_minor": 5
}
