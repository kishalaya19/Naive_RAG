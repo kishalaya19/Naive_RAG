{
 "cells": [
  {
   "cell_type": "code",
   "execution_count": 1,
   "id": "fd7ffe9d",
   "metadata": {},
   "outputs": [],
   "source": [
    "import os\n",
    "import openai \n",
    "import tiktoken\n",
    "import numpy as np\n",
    "import ast\n",
    "import pandas as pd\n",
    "import matplotlib.pyplot as plt\n",
    "from dotenv import load_dotenv"
   ]
  },
  {
   "cell_type": "code",
   "execution_count": 2,
   "id": "ad0eaaa3",
   "metadata": {},
   "outputs": [],
   "source": [
    "def configure():\n",
    "    load_env()"
   ]
  },
  {
   "cell_type": "code",
   "execution_count": 3,
   "id": "cb29a5d0",
   "metadata": {},
   "outputs": [],
   "source": [
    "# Set your API key\n",
    "openai.api_key = os.getenv(\"api_key\")\n",
    "client = openai"
   ]
  },
  {
   "cell_type": "code",
   "execution_count": 4,
   "id": "74f2e4c9",
   "metadata": {},
   "outputs": [],
   "source": [
    "# Initialize the tokenizer for the model\n",
    "tokenizer = tiktoken.get_encoding('p50k_base')  # Use the appropriate encoding for your model\n",
    "\n",
    "def get_embedding(text, model='text-embedding-3-small', max_tokens=7000):\n",
    "    # Tokenize the text and truncate if necessary\n",
    "    tokens = tokenizer.encode(text)\n",
    "    if len(tokens) > max_tokens:\n",
    "        tokens = tokens[:max_tokens]\n",
    "        text = tokenizer.decode(tokens)\n",
    "    \n",
    "    return client.embeddings.create(input=[text],model=model).data[0].embedding"
   ]
  },
  {
   "cell_type": "code",
   "execution_count": 5,
   "id": "2ed9c129",
   "metadata": {},
   "outputs": [],
   "source": [
    "data = pd.read_csv(\"ucdavis_health_embeddings.csv\")"
   ]
  },
  {
   "cell_type": "code",
   "execution_count": 6,
   "id": "ff9fa61e",
   "metadata": {},
   "outputs": [],
   "source": [
    "# Handle NaN values and convert the 'embedding' column from strings to lists of floats\n",
    "def safe_literal_eval(x):\n",
    "    try:\n",
    "        return ast.literal_eval(x)\n",
    "    except (ValueError, SyntaxError):\n",
    "        return []\n",
    "\n",
    "data['embedding'] = data['embedding'].apply(safe_literal_eval)\n",
    "\n",
    "# Ensure all embeddings are lists of floats and filter out empty embeddings\n",
    "data['embedding'] = data['embedding'].apply(lambda x: [float(i) for i in x] if isinstance(x, list) else [])\n",
    "data = data[data['embedding'].apply(lambda x: len(x) > 0)]"
   ]
  },
  {
   "cell_type": "code",
   "execution_count": 7,
   "id": "cf742687",
   "metadata": {},
   "outputs": [
    {
     "data": {
      "text/plain": [
       "url          object\n",
       "text         object\n",
       "embedding    object\n",
       "dtype: object"
      ]
     },
     "execution_count": 7,
     "metadata": {},
     "output_type": "execute_result"
    }
   ],
   "source": [
    "data.dtypes"
   ]
  },
  {
   "cell_type": "code",
   "execution_count": 8,
   "id": "acaa09ef",
   "metadata": {},
   "outputs": [
    {
     "data": {
      "text/html": [
       "<div>\n",
       "<style scoped>\n",
       "    .dataframe tbody tr th:only-of-type {\n",
       "        vertical-align: middle;\n",
       "    }\n",
       "\n",
       "    .dataframe tbody tr th {\n",
       "        vertical-align: top;\n",
       "    }\n",
       "\n",
       "    .dataframe thead th {\n",
       "        text-align: right;\n",
       "    }\n",
       "</style>\n",
       "<table border=\"1\" class=\"dataframe\">\n",
       "  <thead>\n",
       "    <tr style=\"text-align: right;\">\n",
       "      <th></th>\n",
       "      <th>url</th>\n",
       "      <th>text</th>\n",
       "      <th>embedding</th>\n",
       "    </tr>\n",
       "  </thead>\n",
       "  <tbody>\n",
       "    <tr>\n",
       "      <th>0</th>\n",
       "      <td>https://health.ucdavis.edu/</td>\n",
       "      <td>Personalized, compassionate care and the exper...</td>\n",
       "      <td>[0.04119868203997612, -0.010863082483410835, 0...</td>\n",
       "    </tr>\n",
       "    <tr>\n",
       "      <th>1</th>\n",
       "      <td>https://health.ucdavis.edu//patients-visitors/</td>\n",
       "      <td>Our highly rated doctors partner with you and ...</td>\n",
       "      <td>[0.02227506786584854, -0.0012833660002797842, ...</td>\n",
       "    </tr>\n",
       "    <tr>\n",
       "      <th>2</th>\n",
       "      <td>https://health.ucdavis.edu//patients-visitors/...</td>\n",
       "      <td>Our highly rated doctors partner with you and ...</td>\n",
       "      <td>[0.013627884909510612, -0.00344230723567307, 0...</td>\n",
       "    </tr>\n",
       "    <tr>\n",
       "      <th>3</th>\n",
       "      <td>https://health.ucdavis.edu//healthcare-profess...</td>\n",
       "      <td>Discover news, research, and innovations from ...</td>\n",
       "      <td>[0.022200144827365875, 0.0020643819589167833, ...</td>\n",
       "    </tr>\n",
       "    <tr>\n",
       "      <th>4</th>\n",
       "      <td>https://health.ucdavis.edu//schools-programs/</td>\n",
       "      <td>UC Davis schools and education programs offer ...</td>\n",
       "      <td>[0.02748064510524273, 0.008937512524425983, 0....</td>\n",
       "    </tr>\n",
       "  </tbody>\n",
       "</table>\n",
       "</div>"
      ],
      "text/plain": [
       "                                                 url  \\\n",
       "0                        https://health.ucdavis.edu/   \n",
       "1     https://health.ucdavis.edu//patients-visitors/   \n",
       "2  https://health.ucdavis.edu//patients-visitors/...   \n",
       "3  https://health.ucdavis.edu//healthcare-profess...   \n",
       "4      https://health.ucdavis.edu//schools-programs/   \n",
       "\n",
       "                                                text  \\\n",
       "0  Personalized, compassionate care and the exper...   \n",
       "1  Our highly rated doctors partner with you and ...   \n",
       "2  Our highly rated doctors partner with you and ...   \n",
       "3  Discover news, research, and innovations from ...   \n",
       "4  UC Davis schools and education programs offer ...   \n",
       "\n",
       "                                           embedding  \n",
       "0  [0.04119868203997612, -0.010863082483410835, 0...  \n",
       "1  [0.02227506786584854, -0.0012833660002797842, ...  \n",
       "2  [0.013627884909510612, -0.00344230723567307, 0...  \n",
       "3  [0.022200144827365875, 0.0020643819589167833, ...  \n",
       "4  [0.02748064510524273, 0.008937512524425983, 0....  "
      ]
     },
     "execution_count": 8,
     "metadata": {},
     "output_type": "execute_result"
    }
   ],
   "source": [
    "data.head()"
   ]
  },
  {
   "cell_type": "code",
   "execution_count": 9,
   "id": "9c0b43ca",
   "metadata": {},
   "outputs": [],
   "source": [
    "def query(question):\n",
    "    question_embedding = get_embedding(question)\n",
    "    \n",
    "    def fn(page_embedding):\n",
    "        return np.dot(page_embedding, question_embedding)\n",
    "    \n",
    "    distance_series = data['embedding'].apply(fn)\n",
    "    \n",
    "    top_four = distance_series.sort_values(ascending=False).index[0:4]\n",
    "    \n",
    "    context_series = data.loc[top_four]['text']\n",
    "    context = \" \".join(context_series)\n",
    "    similarity_scores = distance_series.sort_values(ascending=False)[0:4]\n",
    "    links_series = data.loc[top_four]['url']\n",
    "    links = \"\\n \\n\".join(links_series)\n",
    "    link_list = links_series.tolist()\n",
    "    \n",
    "    chat_completion = client.chat.completions.create(\n",
    "        messages=[\n",
    "            {\"role\": \"system\", \"content\": \"You are a helpful assistant tasked to respond to users of UC Davos Health who are seeking information about their services\"},\n",
    "            {\"role\": \"user\", \"content\": question},\n",
    "            {\"role\": \"assistant\", \"content\": f\"Use this information from the UC Davis Health website and answer the user's question: {context}. Please stick to this context while answering the question. Include all important information relevant to what the user is seeking, also tell them things they should be mindful of while following instructions. Don't miss any details about timings or weekdays.\"}\n",
    "        ],\n",
    "        model=\"gpt-3.5-turbo\"\n",
    "    )\n",
    "\n",
    "    return chat_completion.choices[0].message.content, links, similarity_scores.tolist(), link_list\n"
   ]
  },
  {
   "cell_type": "code",
   "execution_count": 10,
   "id": "393f70af",
   "metadata": {},
   "outputs": [],
   "source": [
    "def plot_bar_chart(similarity_scores, links_series):\n",
    "    # Sort the similarity scores and links together\n",
    "    sorted_pairs = sorted(zip(similarity_scores, links_series))  # Remove reverse=True to keep ascending order\n",
    "    sorted_scores, sorted_links = zip(*sorted_pairs)\n",
    "    \n",
    "    # Create labels as \"Link 1\", \"Link 2\", etc.\n",
    "    link_labels = [f\"Link {i+1}\" for i in range(len(sorted_links)-1, -1, -1)]\n",
    "    \n",
    "    plt.figure(figsize=(12, 8))  # Adjusting the figure size to make it larger\n",
    "    bars = plt.barh(link_labels, sorted_scores, color='skyblue', edgecolor='black')\n",
    "    plt.xlabel('Similarity Score')\n",
    "    plt.ylabel('Links')\n",
    "    plt.title('Similarity Scores Bar Chart')\n",
    "    plt.xlim(0, 1)  # Set x-axis scale from 0 to 1\n",
    "    plt.grid(True, axis='x')\n",
    "    \n",
    "    # Add labels for each bar\n",
    "    for bar, score in zip(bars, sorted_scores):\n",
    "        plt.text(bar.get_width() + 0.01, bar.get_y() + bar.get_height() / 2,\n",
    "                 f'{score:.2f}', va='center', ha='left')\n",
    "\n",
    "    plt.tight_layout()\n",
    "    plt.savefig('bar_chart.png')\n",
    "    return 'bar_chart.png'"
   ]
  },
  {
   "cell_type": "code",
   "execution_count": 11,
   "id": "d18ff61c",
   "metadata": {},
   "outputs": [],
   "source": [
    "import gradio as gr"
   ]
  },
  {
   "cell_type": "code",
   "execution_count": 12,
   "id": "7c186abb",
   "metadata": {},
   "outputs": [],
   "source": [
    "# Define the Gradio interface\n",
    "def gradio_query(question):\n",
    "    answer, links, similarity_scores, link_list = query(question)\n",
    "    bar_plot_path = plot_bar_chart(similarity_scores, link_list)\n",
    "    return answer, links, bar_plot_path"
   ]
  },
  {
   "cell_type": "code",
   "execution_count": 13,
   "id": "c92fdb17",
   "metadata": {},
   "outputs": [
    {
     "name": "stdout",
     "output_type": "stream",
     "text": [
      "Running on local URL:  http://127.0.0.1:7860\n",
      "Running on public URL: https://e15ecb764b96a35e64.gradio.live\n",
      "\n",
      "This share link expires in 72 hours. For free permanent hosting and GPU upgrades, run `gradio deploy` from Terminal to deploy to Spaces (https://huggingface.co/spaces)\n"
     ]
    },
    {
     "data": {
      "text/html": [
       "<div><iframe src=\"https://e15ecb764b96a35e64.gradio.live\" width=\"100%\" height=\"500\" allow=\"autoplay; camera; microphone; clipboard-read; clipboard-write;\" frameborder=\"0\" allowfullscreen></iframe></div>"
      ],
      "text/plain": [
       "<IPython.core.display.HTML object>"
      ]
     },
     "metadata": {},
     "output_type": "display_data"
    },
    {
     "data": {
      "text/plain": []
     },
     "execution_count": 13,
     "metadata": {},
     "output_type": "execute_result"
    }
   ],
   "source": [
    "interface = gr.Interface(\n",
    "    fn=gradio_query,\n",
    "    inputs=gr.Textbox(lines=2, placeholder=\"Enter your question here...\"),\n",
    "    outputs=[\n",
    "        gr.Textbox(label=\"Answer\"),\n",
    "        gr.Textbox(label=\"For more information, visit these links\"),\n",
    "        gr.Image(type=\"filepath\", label=\"Similarity Scores Bar Chart\", elem_id=\"bar_chart\")\n",
    "    ],\n",
    "    title=\"UC Davis Health Query Assistant\",\n",
    "    description=\"Ask your questions about UC Davis Health services and get relevant information from their website.\",\n",
    "    css=\".gradio-container #bar_chart img {width: 200%; height: auto;}\"\n",
    ")\n",
    "\n",
    "# Launch the interface\n",
    "interface.launch(share=True)"
   ]
  },
  {
   "cell_type": "code",
   "execution_count": null,
   "id": "4631fa03",
   "metadata": {},
   "outputs": [],
   "source": []
  }
 ],
 "metadata": {
  "kernelspec": {
   "display_name": "Python 3 (ipykernel)",
   "language": "python",
   "name": "python3"
  },
  "language_info": {
   "codemirror_mode": {
    "name": "ipython",
    "version": 3
   },
   "file_extension": ".py",
   "mimetype": "text/x-python",
   "name": "python",
   "nbconvert_exporter": "python",
   "pygments_lexer": "ipython3",
   "version": "3.11.5"
  }
 },
 "nbformat": 4,
 "nbformat_minor": 5
}
