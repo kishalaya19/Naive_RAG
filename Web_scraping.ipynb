{
 "cells": [
  {
   "cell_type": "code",
   "execution_count": 1,
   "id": "9856211a",
   "metadata": {},
   "outputs": [],
   "source": [
    "import requests\n",
    "from bs4 import BeautifulSoup\n",
    "import pandas as pd\n",
    "import time\n",
    "import urllib3"
   ]
  },
  {
   "cell_type": "code",
   "execution_count": null,
   "id": "0fe54bd2",
   "metadata": {},
   "outputs": [],
   "source": [
    "# Disable SSL warnings\n",
    "urllib3.disable_warnings(urllib3.exceptions.InsecureRequestWarning)"
   ]
  },
  {
   "cell_type": "code",
   "execution_count": 2,
   "id": "3de40b88",
   "metadata": {},
   "outputs": [],
   "source": [
    "base_url = \"https://health.ucdavis.edu/\"\n",
    "visited = set()\n",
    "data = []"
   ]
  },
  {
   "cell_type": "code",
   "execution_count": 3,
   "id": "7a6a2d5c",
   "metadata": {},
   "outputs": [],
   "source": [
    "# Scraping function\n",
    "def scrape_page(url):\n",
    "    if url in visited:\n",
    "        return\n",
    "    visited.add(url)\n",
    "    try:\n",
    "        response = requests.get(url, verify=False)\n",
    "        soup = BeautifulSoup(response.text, 'html.parser')\n",
    "        \n",
    "        text = ' '.join([p.get_text() for p in soup.find_all('p')])\n",
    "        data.append({\"url\": url, \"text\": text})\n",
    "        \n",
    "        time.sleep(3)  # Delay for 3 seconds\n",
    "        \n",
    "        for link in soup.find_all('a', href=True):\n",
    "            link_url = link['href']\n",
    "            if link_url.startswith('/'):\n",
    "                link_url = base_url + link_url\n",
    "            if base_url in link_url and link_url not in visited:\n",
    "                scrape_page(link_url)\n",
    "    except requests.exceptions.SSLError as e:\n",
    "        print(f\"SSL error for {url}: {e}\")\n",
    "    except requests.exceptions.RequestException as e:\n",
    "        print(f\"Request error for {url}: {e}\")"
   ]
  },
  {
   "cell_type": "code",
   "execution_count": null,
   "id": "4aae3c5f",
   "metadata": {},
   "outputs": [],
   "source": [
    "# Start scraping from the base URL\n",
    "scrape_page(base_url)"
   ]
  },
  {
   "cell_type": "code",
   "execution_count": null,
   "id": "2767777b",
   "metadata": {},
   "outputs": [],
   "source": [
    "# Save the data to a CSV file\n",
    "df = pd.DataFrame(data)\n",
    "df.to_csv('ucdavis_health_details.csv', index=False)\n"
   ]
  }
 ],
 "metadata": {
  "kernelspec": {
   "display_name": "Python 3 (ipykernel)",
   "language": "python",
   "name": "python3"
  },
  "language_info": {
   "codemirror_mode": {
    "name": "ipython",
    "version": 3
   },
   "file_extension": ".py",
   "mimetype": "text/x-python",
   "name": "python",
   "nbconvert_exporter": "python",
   "pygments_lexer": "ipython3",
   "version": "3.11.5"
  }
 },
 "nbformat": 4,
 "nbformat_minor": 5
}
